{
  "nbformat": 4,
  "nbformat_minor": 0,
  "metadata": {
    "colab": {
      "provenance": []
    },
    "kernelspec": {
      "name": "python3",
      "display_name": "Python 3"
    },
    "language_info": {
      "name": "python"
    },
    "accelerator": "TPU",
    "gpuClass": "standard"
  },
  "cells": [
    {
      "cell_type": "code",
      "execution_count": 1,
      "metadata": {
        "id": "DYMGTrMISTIl"
      },
      "outputs": [],
      "source": [
        "import numpy as np\n",
        "import tensorflow as tf\n",
        "from tensorflow.keras.applications.resnet50 import ResNet50\n",
        "from matplotlib import pyplot as plt\n",
        "import tensorflow_datasets as tfds"
      ]
    },
    {
      "cell_type": "code",
      "source": [
        "(training_images, training_labels) , (validation_images , validation_labels) = tf.keras.datasets.cifar10.load_data()"
      ],
      "metadata": {
        "colab": {
          "base_uri": "https://localhost:8080/"
        },
        "id": "UpwlD7OSWDcN",
        "outputId": "acf6caf7-b530-4e6a-f4d4-25731e965ec0"
      },
      "execution_count": 2,
      "outputs": [
        {
          "output_type": "stream",
          "name": "stdout",
          "text": [
            "Downloading data from https://www.cs.toronto.edu/~kriz/cifar-10-python.tar.gz\n",
            "170498071/170498071 [==============================] - 3s 0us/step\n"
          ]
        }
      ]
    },
    {
      "cell_type": "code",
      "source": [
        "def preprocess_image_input(input_images):\n",
        "  input_images=input_images.astype('float32')\n",
        "  output_ims= tf.keras.applications.resnet50.preprocess_input(input_images)\n",
        "  return output_ims"
      ],
      "metadata": {
        "id": "FJcV_teAWzCC"
      },
      "execution_count": 3,
      "outputs": []
    },
    {
      "cell_type": "code",
      "source": [
        "train_X = preprocess_image_input(training_images)\n",
        "valid_X = preprocess_image_input(validation_images)"
      ],
      "metadata": {
        "id": "_GZZ0N8lXlC3"
      },
      "execution_count": 4,
      "outputs": []
    },
    {
      "cell_type": "code",
      "source": [
        "def feature_extractor(inputs):\n",
        "  feature_extractor = tf.keras.applications.resnet50.ResNet50(input_shape=(224,224,3),\n",
        "                                                              include_top=False,\n",
        "                                                              weights='imagenet')(inputs)\n",
        "  return feature_extractor\n"
      ],
      "metadata": {
        "id": "dbK7t978X3cZ"
      },
      "execution_count": 5,
      "outputs": []
    },
    {
      "cell_type": "code",
      "source": [
        "def classifier(inputs):\n",
        "  x = tf.keras.layers.GlobalAveragePooling2D()(inputs)\n",
        "  x = tf.keras.layers.Flatten()(x)\n",
        "  x = tf.keras.layers.Dense(1024, activation=\"relu\")(x)\n",
        "  x = tf.keras.layers.Dense(512,activation=\"relu\")(x)\n",
        "  x = tf.keras.layers.Dense(10,activation=\"softmax\",name=\"classification\")(x)\n",
        "  return x"
      ],
      "metadata": {
        "id": "WhH259ssYShq"
      },
      "execution_count": 6,
      "outputs": []
    },
    {
      "cell_type": "code",
      "source": [
        "def final_model(inputs):\n",
        "  ressize = tf.keras.layers.UpSampling2D(size=(7,7))(inputs)\n",
        "  resnet_feature_extractor = feature_extractor(ressize)\n",
        "  classification_output = classifier(resnet_feature_extractor)\n",
        "  return classification_output"
      ],
      "metadata": {
        "id": "-_ePgj0IanM6"
      },
      "execution_count": 7,
      "outputs": []
    },
    {
      "cell_type": "code",
      "source": [
        "def define_compile_model():\n",
        "  inputs = tf.keras.layers.Input(shape=(32,32,3))\n",
        "\n",
        "  classification_output = final_model(inputs)\n",
        "\n",
        "  model = tf.keras.Model(inputs=inputs, outputs= classification_output)\n",
        "  model.compile(optimizer='sgd', loss = \"sparse_categorical_crossentropy\",metrics = [\"accuracy\"])\n",
        "\n",
        "  return model\n"
      ],
      "metadata": {
        "id": "TtpnMYTebDqs"
      },
      "execution_count": 8,
      "outputs": []
    },
    {
      "cell_type": "code",
      "source": [
        "model = define_compile_model()\n",
        "model.summary()\n"
      ],
      "metadata": {
        "colab": {
          "base_uri": "https://localhost:8080/"
        },
        "id": "ffcYJg_Lb5pZ",
        "outputId": "f4bdf5db-e0b3-48a5-a6dc-cfca88105e81"
      },
      "execution_count": 9,
      "outputs": [
        {
          "output_type": "stream",
          "name": "stdout",
          "text": [
            "Downloading data from https://storage.googleapis.com/tensorflow/keras-applications/resnet/resnet50_weights_tf_dim_ordering_tf_kernels_notop.h5\n",
            "94765736/94765736 [==============================] - 1s 0us/step\n",
            "Model: \"model\"\n",
            "_________________________________________________________________\n",
            " Layer (type)                Output Shape              Param #   \n",
            "=================================================================\n",
            " input_1 (InputLayer)        [(None, 32, 32, 3)]       0         \n",
            "                                                                 \n",
            " up_sampling2d (UpSampling2D  (None, 224, 224, 3)      0         \n",
            " )                                                               \n",
            "                                                                 \n",
            " resnet50 (Functional)       (None, 7, 7, 2048)        23587712  \n",
            "                                                                 \n",
            " global_average_pooling2d (G  (None, 2048)             0         \n",
            " lobalAveragePooling2D)                                          \n",
            "                                                                 \n",
            " flatten (Flatten)           (None, 2048)              0         \n",
            "                                                                 \n",
            " dense (Dense)               (None, 1024)              2098176   \n",
            "                                                                 \n",
            " dense_1 (Dense)             (None, 512)               524800    \n",
            "                                                                 \n",
            " classification (Dense)      (None, 10)                5130      \n",
            "                                                                 \n",
            "=================================================================\n",
            "Total params: 26,215,818\n",
            "Trainable params: 26,162,698\n",
            "Non-trainable params: 53,120\n",
            "_________________________________________________________________\n"
          ]
        }
      ]
    },
    {
      "cell_type": "code",
      "source": [
        "# From epoch 4 we se the validation accuracy is decresing so we will stop the model training beyond epoch 4.\n",
        "history = model.fit(train_X, training_labels, epochs=5, validation_data = (valid_X, validation_labels), batch_size = 64)\n",
        "\n",
        "# Evaluate the model\n",
        "plt.plot(history.history['accuracy'],label='accuracy')\n",
        "plt.plot(history.history['val_accuracy'],label='val_accuracy')\n",
        "plt.xlabel('Epoch')\n",
        "plt.ylabel('Accuracy')\n",
        "plt.ylim([0.5,1])\n",
        "plt.legend(loc='lower right')\n",
        "test_loss, test_acc = model.evaluate(valid_X,validation_labels,verbose=2)\n",
        "print(\"Test_Loss is:\",test_loss)\n",
        "print(\"Test_acc is:\",test_acc)"
      ],
      "metadata": {
        "colab": {
          "base_uri": "https://localhost:8080/"
        },
        "id": "HiJug2VFcSme",
        "outputId": "206d9044-31a3-4703-cda6-a6ce30633aa7"
      },
      "execution_count": null,
      "outputs": [
        {
          "output_type": "stream",
          "name": "stdout",
          "text": [
            "Epoch 1/5\n",
            "782/782 [==============================] - 553s 656ms/step - loss: 0.3972 - accuracy: 0.8718 - val_loss: 0.2290 - val_accuracy: 0.9219\n",
            "Epoch 2/5\n",
            "782/782 [==============================] - 500s 639ms/step - loss: 0.0999 - accuracy: 0.9679 - val_loss: 0.1648 - val_accuracy: 0.9428\n",
            "Epoch 3/5\n",
            "782/782 [==============================] - 500s 639ms/step - loss: 0.0347 - accuracy: 0.9901 - val_loss: 0.2010 - val_accuracy: 0.9392\n",
            "Epoch 4/5\n",
            "782/782 [==============================] - 500s 639ms/step - loss: 0.0138 - accuracy: 0.9969 - val_loss: 0.1910 - val_accuracy: 0.9478\n",
            "Epoch 5/5\n",
            "782/782 [==============================] - 500s 640ms/step - loss: 0.0083 - accuracy: 0.9982 - val_loss: 0.1720 - val_accuracy: 0.9541\n"
          ]
        }
      ]
    },
    {
      "cell_type": "code",
      "source": [
        "# From epoch 4 we se the validation accuracy is decresing so we will stop the model training beyond epoch 4.\n",
        "history = model.fit(train_X, training_labels, epochs=4, validation_data = (valid_X, validation_labels), batch_size = 64)\n",
        "\n",
        "# Evaluate the model\n",
        "plt.plot(history.history['accuracy'],label='accuracy')\n",
        "plt.plot(history.history['val_accuracy'],label='val_accuracy')\n",
        "plt.xlabel('Epoch')\n",
        "plt.ylabel('Accuracy')\n",
        "plt.ylim([0.5,1])\n",
        "plt.legend(loc='lower right')\n",
        "test_loss, test_acc = model.evaluate(valid_X,validation_labels,verbose=2)\n",
        "print(\"Test_Loss is:\",test_loss)\n",
        "print(\"Test_acc is:\",test_acc)"
      ],
      "metadata": {
        "colab": {
          "base_uri": "https://localhost:8080/",
          "height": 642
        },
        "id": "ZYc8_mk2cl92",
        "outputId": "88cf02a0-990f-4656-ccd1-fb75ecd4836a"
      },
      "execution_count": null,
      "outputs": [
        {
          "output_type": "stream",
          "name": "stdout",
          "text": [
            "Epoch 1/4\n",
            "782/782 [==============================] - 494s 631ms/step - loss: 0.0052 - accuracy: 0.9988 - val_loss: 0.1746 - val_accuracy: 0.9558\n",
            "Epoch 2/4\n",
            "782/782 [==============================] - 515s 659ms/step - loss: 0.0036 - accuracy: 0.9995 - val_loss: 0.1798 - val_accuracy: 0.9564\n",
            "Epoch 3/4\n",
            "782/782 [==============================] - 513s 656ms/step - loss: 0.0026 - accuracy: 0.9995 - val_loss: 0.1811 - val_accuracy: 0.9579\n",
            "Epoch 4/4\n",
            "782/782 [==============================] - 513s 657ms/step - loss: 0.0021 - accuracy: 0.9996 - val_loss: 0.1862 - val_accuracy: 0.9567\n",
            "313/313 - 27s - loss: 0.1862 - accuracy: 0.9567 - 27s/epoch - 87ms/step\n",
            "Test_Loss is: 0.18615764379501343\n",
            "Test_acc is: 0.9567000269889832\n"
          ]
        },
        {
          "output_type": "display_data",
          "data": {
            "text/plain": [
              "<Figure size 640x480 with 1 Axes>"
            ],
            "image/png": "[encoded data removed]"
          },
          "metadata": {}
        }
      ]
    },
    {
      "cell_type": "code",
      "source": [
        "history = model.fit(train_X, training_labels, epochs=10, validation_data = (valid_X, validation_labels), batch_size = 64)"
      ],
      "metadata": {
        "id": "37Bliw08Sivl"
      },
      "execution_count": null,
      "outputs": []
    },
    {
      "cell_type": "code",
      "source": [
        "# Evaluate the model\n",
        "plt.plot(history.history['accuracy'],label='accuracy')\n",
        "plt.plot(history.history['val_accuracy'],label='val_accuracy')\n",
        "plt.xlabel('Epoch')\n",
        "plt.ylabel('Accuracy')\n",
        "plt.ylim([0.5,1])\n",
        "plt.legend(loc='lower right')\n",
        "test_loss, test_acc = model.evaluate(valid_X,validation_labels,verbose=2)\n",
        "print(\"Test_Loss is:\",test_loss)\n",
        "print(\"Test_acc is:\",test_acc)"
      ],
      "metadata": {
        "id": "MtZflVRTa8bP"
      },
      "execution_count": null,
      "outputs": []
    },
    {
      "cell_type": "code",
      "source": [
        "from sklearn.model_selection import RandomizedSearchCV\n",
        "from tensorflow.keras.wrappers.scikit_learn import KerasClassifier \n",
        "from tensorflow.keras.optimizers import Adam"
      ],
      "metadata": {
        "id": "N1RmeFRfTQVf"
      },
      "execution_count": 13,
      "outputs": []
    },
    {
      "cell_type": "code",
      "source": [
        "# Implement Dropout to avoid overfitting of model.\n",
        "# Define the ResNet50 model as a function\n",
        "def create_model(learning_rate=0.001, dropout_rate=0.2): \n",
        "  inputs = tf.keras.layers.Input(shape=(32,32,3))\n",
        "  resize = tf.keras.layers.UpSampling2D(size=(7,7))(inputs) \n",
        "  feature_extractor = tf.keras.applications.resnet.ResNet50(input_shape=(224, 224, 3), include_top=False,\n",
        "  weights='imagenet')(resize) \n",
        "  x = tf.keras.layers.GlobalAveragePooling2D()(feature_extractor)\n",
        "  x = tf.keras.layers.Flatten()(x)\n",
        "  x = tf.keras.layers.Dense(1024, activation=\"relu\")(x) \n",
        "  x = tf.keras.layers.Dropout(dropout_rate)(x)\n",
        "  x = tf.keras.layers.Dense(512, activation=\"relu\")(x) \n",
        "  x = tf.keras.layers.Dropout(dropout_rate)(x)\n",
        "  x = tf.keras.layers.Dense(10, activation=\"softmax\",name=\"classification\")(x)\n",
        "  model = tf.keras.Model(inputs=inputs, outputs=x) \n",
        "  optimizer = Adam(learning_rate=learning_rate) \n",
        "  model.compile(optimizer=optimizer,\n",
        "  loss='sparse_categorical_crossentropy',metrics=['accuracy'])\n",
        "  # Wrap the model using KerasClassifier\n",
        "  model = KerasClassifier(build_fn=create_model, epochs=3, batch_size=64, verbose=1)\n",
        "  # Define the hyper-parameters to search over\n",
        "  param_dist = {'learning_rate': [0.01, 0.1,0.00001], 'dropout_rate': [0.1, 0.2,0.10]}\n",
        "  # Perform random search\n",
        "  search = RandomizedSearchCV(estimator=model, param_distributions=param_dist, n_iter=5, cv=3)\n",
        "  search_result = search.fit(train_X, training_labels)\n",
        "  # Print the best hyper-parameters\n",
        "  print(\"Best Score is:\",search_result.best_score_)\n",
        "  print(\"Best: %f using %s\" % (search_result.best_score_, search_result.best_params_))"
      ],
      "metadata": {
        "id": "ytkdFq-fTGL4"
      },
      "execution_count": 22,
      "outputs": []
    },
    {
      "cell_type": "code",
      "source": [],
      "metadata": {
        "id": "8e3rDKOIUB-Z"
      },
      "execution_count": 21,
      "outputs": []
    },
    {
      "cell_type": "code",
      "source": [],
      "metadata": {
        "id": "bC1Rof3MUT3Z"
      },
      "execution_count": null,
      "outputs": []
    }
  ]
}